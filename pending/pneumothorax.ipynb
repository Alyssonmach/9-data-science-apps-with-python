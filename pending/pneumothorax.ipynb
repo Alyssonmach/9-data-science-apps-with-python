{
  "nbformat": 4,
  "nbformat_minor": 0,
  "metadata": {
    "colab": {
      "name": "pneumothorax.ipynb",
      "provenance": [],
      "machine_shape": "hm",
      "authorship_tag": "ABX9TyNvtft18Q0tQadmqqEKky3w",
      "include_colab_link": true
    },
    "kernelspec": {
      "name": "python3",
      "display_name": "Python 3"
    },
    "language_info": {
      "name": "python"
    },
    "accelerator": "GPU"
  },
  "cells": [
    {
      "cell_type": "markdown",
      "metadata": {
        "id": "view-in-github",
        "colab_type": "text"
      },
      "source": [
        "<a href=\"https://colab.research.google.com/github/Alyssonmach/9-Data-Science-Apps-with-Python/blob/main/pending/pneumothorax.ipynb\" target=\"_parent\"><img src=\"https://colab.research.google.com/assets/colab-badge.svg\" alt=\"Open In Colab\"/></a>"
      ]
    },
    {
      "cell_type": "code",
      "metadata": {
        "id": "Lhcfay0Ktf0q"
      },
      "source": [
        "import os\n",
        "import pandas as pd\n",
        "from sklearn.model_selection import train_test_split\n",
        "from keras.preprocessing.image import ImageDataGenerator\n",
        "from sklearn.metrics import confusion_matrix, precision_recall_fscore_support, accuracy_score\n",
        "import matplotlib.pyplot as plt\n",
        "import numpy as np\n",
        "\n",
        "import tensorflow as tf\n",
        "from tensorflow.keras import layers\n",
        "from tensorflow.keras import Model\n",
        "from tensorflow.keras.applications import MobileNetV2\n",
        "from tensorflow.keras import optimizers\n",
        "from tensorflow.keras.callbacks import ModelCheckpoint\n",
        "import tensorflow as tf\n",
        "import urllib.request as url\n",
        "\n",
        "import warnings\n",
        "warnings.filterwarnings(\"ignore\")"
      ],
      "execution_count": 1,
      "outputs": []
    },
    {
      "cell_type": "code",
      "metadata": {
        "colab": {
          "base_uri": "https://localhost:8080/"
        },
        "id": "af6G7GGgtkjB",
        "outputId": "6f627818-0c88-4d1f-b511-8707ea8b0474"
      },
      "source": [
        "import tensorflow as tf\n",
        "device_name = tf.test.gpu_device_name()\n",
        "if 'GPU' not in device_name:\n",
        "  print('GPU device not found')\n",
        "print('Found GPU at: {}'.format(device_name))"
      ],
      "execution_count": 2,
      "outputs": [
        {
          "output_type": "stream",
          "text": [
            "Found GPU at: /device:GPU:0\n"
          ],
          "name": "stdout"
        }
      ]
    },
    {
      "cell_type": "code",
      "metadata": {
        "id": "DxB3AE7Rtlvh"
      },
      "source": [
        "os.environ['CUDA_VISIBLE_DEVICES'] = '0'"
      ],
      "execution_count": 3,
      "outputs": []
    },
    {
      "cell_type": "code",
      "metadata": {
        "id": "laQF0VCatm64"
      },
      "source": [
        "train_df = pd.read_csv('/content/drive/MyDrive/train_df.csv', sep = ',', index_col = 0)\n",
        "validation_df = pd.read_csv('/content/drive/MyDrive/validation_df.csv', sep = ',', index_col = 0)\n",
        "test_df = pd.read_csv('/content/drive/MyDrive/test_df.csv', sep = ',', index_col = 0)"
      ],
      "execution_count": 5,
      "outputs": []
    },
    {
      "cell_type": "code",
      "metadata": {
        "id": "5SBl4ELgt0lh"
      },
      "source": [
        "train_df = train_df[train_df.finding_labels != 'No Finding']\n",
        "validation_df = validation_df[validation_df.finding_labels != 'No Finding']\n",
        "test_df = test_df[test_df.finding_labels != 'No Finding']"
      ],
      "execution_count": 6,
      "outputs": []
    },
    {
      "cell_type": "code",
      "metadata": {
        "colab": {
          "base_uri": "https://localhost:8080/"
        },
        "id": "bTyQ-hc-t3kU",
        "outputId": "03e4852e-eb48-4cac-a803-578e96198eff"
      },
      "source": [
        "infiltration, _ = train_test_split(train_df[train_df.finding_labels == 'Infiltration'], test_size = 0.94)\n",
        "atelectasis, _ = train_test_split(train_df[train_df.finding_labels == 'Atelectasis'], test_size = 0.85)\n",
        "effusion, _ = train_test_split(train_df[train_df.finding_labels == 'Effusion'], test_size = 0.85)\n",
        "nodule, _ = train_test_split(train_df[train_df.finding_labels == 'Nodule'], test_size = 0.78)\n",
        "pneumothorax, _ = train_test_split(train_df[train_df.finding_labels == 'Pneumothorax'], test_size = 0.72)\n",
        "consolidation, _ = train_test_split(train_df[train_df.finding_labels == 'Consolidation'], test_size = 0.55)\n",
        "pleural_thickening, _ = train_test_split(train_df[train_df.finding_labels == 'Pleural_Thickening'], test_size = 0.45)\n",
        "emphysema, _ = train_test_split(train_df[train_df.finding_labels == 'Emphysema'], test_size = 0.32)\n",
        "fibrosis, _ = train_test_split(train_df[train_df.finding_labels == 'Fibrosis'], test_size = 0.16)  \n",
        "edema = train_df[train_df.finding_labels == 'Edema']   \n",
        "train_df = pd.concat([infiltration, atelectasis, effusion, nodule, pneumothorax, consolidation,\n",
        "                   pleural_thickening, emphysema, fibrosis, edema])\n",
        "train_df['finding_labels'].value_counts()      "
      ],
      "execution_count": 7,
      "outputs": [
        {
          "output_type": "execute_result",
          "data": {
            "text/plain": [
              "Atelectasis           585\n",
              "Edema                 578\n",
              "Pneumothorax          566\n",
              "Pleural_Thickening    565\n",
              "Fibrosis              563\n",
              "Emphysema             556\n",
              "Consolidation         550\n",
              "Nodule                549\n",
              "Effusion              546\n",
              "Infiltration          526\n",
              "Name: finding_labels, dtype: int64"
            ]
          },
          "metadata": {
            "tags": []
          },
          "execution_count": 7
        }
      ]
    },
    {
      "cell_type": "code",
      "metadata": {
        "colab": {
          "base_uri": "https://localhost:8080/"
        },
        "id": "586XMwCBt4tq",
        "outputId": "0b9a701a-3eb4-4494-f915-59af7fc82d06"
      },
      "source": [
        "infiltration, _ = train_test_split(validation_df[validation_df.finding_labels == 'Infiltration'], test_size = 0.94)\n",
        "atelectasis, _ = train_test_split(validation_df[validation_df.finding_labels == 'Atelectasis'], test_size = 0.85)\n",
        "effusion, _ = train_test_split(validation_df[validation_df.finding_labels == 'Effusion'], test_size = 0.85)\n",
        "nodule, _ = train_test_split(validation_df[validation_df.finding_labels == 'Nodule'], test_size = 0.78)\n",
        "pneumothorax, _ = train_test_split(validation_df[validation_df.finding_labels == 'Pneumothorax'], test_size = 0.72)\n",
        "consolidation, _ = train_test_split(validation_df[validation_df.finding_labels == 'Consolidation'], test_size = 0.55)\n",
        "pleural_thickening, _ = train_test_split(validation_df[validation_df.finding_labels == 'Pleural_Thickening'], test_size = 0.45)\n",
        "emphysema, _ = train_test_split(validation_df[validation_df.finding_labels == 'Emphysema'], test_size = 0.32)\n",
        "fibrosis, _ = train_test_split(validation_df[validation_df.finding_labels == 'Fibrosis'], test_size = 0.16)  \n",
        "edema = validation_df[validation_df.finding_labels == 'Edema']   \n",
        "validation_df = pd.concat([infiltration, atelectasis, effusion, nodule, pneumothorax, consolidation,\n",
        "                   pleural_thickening, emphysema, fibrosis, edema])\n",
        "validation_df['finding_labels'].value_counts()      "
      ],
      "execution_count": 8,
      "outputs": [
        {
          "output_type": "execute_result",
          "data": {
            "text/plain": [
              "Edema                 35\n",
              "Pleural_Thickening    31\n",
              "Emphysema             31\n",
              "Atelectasis           29\n",
              "Effusion              29\n",
              "Infiltration          29\n",
              "Fibrosis              28\n",
              "Nodule                26\n",
              "Pneumothorax          25\n",
              "Consolidation         24\n",
              "Name: finding_labels, dtype: int64"
            ]
          },
          "metadata": {
            "tags": []
          },
          "execution_count": 8
        }
      ]
    },
    {
      "cell_type": "code",
      "metadata": {
        "colab": {
          "base_uri": "https://localhost:8080/"
        },
        "id": "RewOgPx1t7ly",
        "outputId": "fe3a5410-f6d7-4c88-c1ca-ef2dbf028741"
      },
      "source": [
        "infiltration, _ = train_test_split(test_df[test_df.finding_labels == 'Infiltration'], test_size = 0.94)\n",
        "atelectasis, _ = train_test_split(test_df[test_df.finding_labels == 'Atelectasis'], test_size = 0.85)\n",
        "effusion, _ = train_test_split(test_df[test_df.finding_labels == 'Effusion'], test_size = 0.85)\n",
        "nodule, _ = train_test_split(test_df[test_df.finding_labels == 'Nodule'], test_size = 0.78)\n",
        "pneumothorax, _ = train_test_split(test_df[test_df.finding_labels == 'Pneumothorax'], test_size = 0.72)\n",
        "consolidation, _ = train_test_split(test_df[test_df.finding_labels == 'Consolidation'], test_size = 0.55)\n",
        "pleural_thickening, _ = train_test_split(test_df[test_df.finding_labels == 'Pleural_Thickening'], test_size = 0.45)\n",
        "emphysema, _ = train_test_split(test_df[test_df.finding_labels == 'Emphysema'], test_size = 0.32)\n",
        "fibrosis, _ = train_test_split(test_df[test_df.finding_labels == 'Fibrosis'], test_size = 0.16)  \n",
        "edema = test_df[test_df.finding_labels == 'Edema']   \n",
        "test_df = pd.concat([infiltration, atelectasis, effusion, nodule, pneumothorax, consolidation,\n",
        "                   pleural_thickening, emphysema, fibrosis, edema])\n",
        "test_df['finding_labels'].value_counts()      "
      ],
      "execution_count": 9,
      "outputs": [
        {
          "output_type": "execute_result",
          "data": {
            "text/plain": [
              "Pleural_Thickening    22\n",
              "Pneumothorax          22\n",
              "Emphysema             19\n",
              "Nodule                18\n",
              "Fibrosis              18\n",
              "Atelectasis           17\n",
              "Infiltration          17\n",
              "Effusion              16\n",
              "Edema                 15\n",
              "Consolidation         13\n",
              "Name: finding_labels, dtype: int64"
            ]
          },
          "metadata": {
            "tags": []
          },
          "execution_count": 9
        }
      ]
    },
    {
      "cell_type": "code",
      "metadata": {
        "id": "UxkdtTBLt-M4"
      },
      "source": [
        "pneumothorax = train_df[train_df.finding_labels == 'Pneumothorax']\n",
        "pneumothorax['class_name'] =  1\n",
        "others = train_df[train_df.finding_labels != 'Pneumothorax']\n",
        "others = train_df[train_df.finding_labels != 'No finding']\n",
        "others['class_name'] = 0\n",
        "others , _ = train_test_split(others, test_size = 0.9, random_state = 42, \n",
        "                               shuffle = True, stratify = others['finding_labels'])\n",
        "train_df_ = pd.concat([pneumothorax, others])"
      ],
      "execution_count": 10,
      "outputs": []
    },
    {
      "cell_type": "code",
      "metadata": {
        "id": "UaW7Q56tt_bw"
      },
      "source": [
        "pneumothorax = validation_df[validation_df.finding_labels == 'Pneumothorax']\n",
        "pneumothorax['class_name'] =  1\n",
        "others = validation_df[validation_df.finding_labels != 'Pneumothorax']\n",
        "others = validation_df[validation_df.finding_labels != 'No finding']\n",
        "others['class_name'] = 0\n",
        "others , _ = train_test_split(others, test_size = 0.9, random_state = 42, \n",
        "                               shuffle = True, stratify = others['finding_labels'])\n",
        "validation_df_ = pd.concat([pneumothorax, others])"
      ],
      "execution_count": 11,
      "outputs": []
    },
    {
      "cell_type": "code",
      "metadata": {
        "id": "Uk-yelO8uAeC"
      },
      "source": [
        "pneumothorax = test_df[test_df.finding_labels == 'Pneumothorax']\n",
        "pneumothorax['class_name'] =  1\n",
        "others = test_df[test_df.finding_labels != 'Pneumothorax']\n",
        "others = test_df[test_df.finding_labels != 'No finding']\n",
        "others['class_name'] = 0\n",
        "others , _ = train_test_split(others, test_size = 0.9, random_state = 42, \n",
        "                               shuffle = True, stratify = others['finding_labels'])\n",
        "test_df_ = pd.concat([pneumothorax, others])"
      ],
      "execution_count": 12,
      "outputs": []
    },
    {
      "cell_type": "code",
      "metadata": {
        "colab": {
          "base_uri": "https://localhost:8080/"
        },
        "id": "-p4iPxPAuap3",
        "outputId": "bea7a8a3-74d2-412c-c2a7-b7a33fad7fb9"
      },
      "source": [
        "image_generator = ImageDataGenerator(rescale = 1/255, samplewise_center = True, \n",
        "                                     samplewise_std_normalization = True,\n",
        "                                     horizontal_flip = True,\n",
        "                                     vertical_flip = False,\n",
        "                                     height_shift_range = 0.05,\n",
        "                                     width_shift_range = 0.1,\n",
        "                                     rotation_range = 5,\n",
        "                                     shear_range = 0.1,\n",
        "                                     fill_mode = 'reflect',\n",
        "                                     zoom_range = 0.15)\n",
        "\n",
        "train_generator = image_generator.flow_from_dataframe(\n",
        "                                                      dataframe = train_df_,\n",
        "                                                      directory = '',\n",
        "                                                      x_col = 'Image Index',\n",
        "                                                      y_col = 'class_name',\n",
        "                                                      batch_size = 32,\n",
        "                                                      seed = 42,\n",
        "                                                      shuffle = True,\n",
        "                                                      class_mode = 'raw',\n",
        "                                                      target_size = (256, 256))\n",
        "\n",
        "test_datagen = ImageDataGenerator(samplewise_center = True, \n",
        "                                  samplewise_std_normalization = True)\n",
        "\n",
        "valid_generator = test_datagen.flow_from_dataframe(\n",
        "                                                      dataframe = validation_df_,\n",
        "                                                      directory = '.', \n",
        "                                                      x_col = 'Image Index',\n",
        "                                                      y_col = 'class_name',\n",
        "                                                      batch_size = 32,\n",
        "                                                      seed = 42,\n",
        "                                                      shuffle = True,\n",
        "                                                      class_mode = 'raw',\n",
        "                                                      target_size = (256, 256))\n",
        "\n",
        "test_generator = test_datagen.flow_from_dataframe(\n",
        "                                                  dataframe = test_df_, \n",
        "                                                  directory = '.',\n",
        "                                                  x_col = 'Image Index',\n",
        "                                                  y_col = 'class_name',\n",
        "                                                  batch_size = 32,\n",
        "                                                  seed = 42,\n",
        "                                                  shuffle = True,\n",
        "                                                  class_mode = 'raw',\n",
        "                                                  target_size = (256, 256))"
      ],
      "execution_count": 21,
      "outputs": [
        {
          "output_type": "stream",
          "text": [
            "Found 1124 validated image filenames.\n",
            "Found 53 validated image filenames.\n",
            "Found 39 validated image filenames.\n"
          ],
          "name": "stdout"
        }
      ]
    },
    {
      "cell_type": "code",
      "metadata": {
        "colab": {
          "base_uri": "https://localhost:8080/"
        },
        "id": "tf8gN2NsufI8",
        "outputId": "1a63e105-d031-492c-cc24-54f8ac857957"
      },
      "source": [
        "model = MobileNetV2(input_shape = (256, 256, 3), include_top = False, weights = 'imagenet')\n",
        "x = tf.keras.layers.GlobalAveragePooling2D()(model.output)\n",
        "x = tf.keras.layers.Dense(units = 1, activation = 'sigmoid')(x)\n",
        "\n",
        "model = tf.keras.models.Model(inputs = model.input, outputs = x)"
      ],
      "execution_count": 17,
      "outputs": [
        {
          "output_type": "stream",
          "text": [
            "WARNING:tensorflow:`input_shape` is undefined or non-square, or `rows` is not in [96, 128, 160, 192, 224]. Weights for input shape (224, 224) will be loaded as the default.\n",
            "Downloading data from https://storage.googleapis.com/tensorflow/keras-applications/mobilenet_v2/mobilenet_v2_weights_tf_dim_ordering_tf_kernels_1.0_224_no_top.h5\n",
            "9412608/9406464 [==============================] - 0s 0us/step\n"
          ],
          "name": "stdout"
        }
      ]
    },
    {
      "cell_type": "code",
      "metadata": {
        "id": "5OMOS1wfug1K"
      },
      "source": [
        "filepath = \"/content/drive/MyDrive/experimentos/multilabel/pneumothorax/transferlearning_weights.hdf5\"\n",
        "checkpoint = ModelCheckpoint(filepath, monitor = 'val_acc', verbose = 1, save_best_only = True, mode = 'max')"
      ],
      "execution_count": 18,
      "outputs": []
    },
    {
      "cell_type": "code",
      "metadata": {
        "id": "fJMIvnjMuoOA"
      },
      "source": [
        "callbacks = [checkpoint]"
      ],
      "execution_count": 19,
      "outputs": []
    },
    {
      "cell_type": "code",
      "metadata": {
        "id": "0ryc2EjPuqiD"
      },
      "source": [
        "model.compile(optimizer = optimizers.RMSprop(learning_rate = 0.0001), loss = 'binary_crossentropy', \n",
        "              metrics = ['acc'])"
      ],
      "execution_count": 20,
      "outputs": []
    },
    {
      "cell_type": "code",
      "metadata": {
        "colab": {
          "base_uri": "https://localhost:8080/"
        },
        "id": "VR6nelCyur5C",
        "outputId": "61c72d29-a7cc-403e-88ef-d9ad2be15679"
      },
      "source": [
        "history = model.fit(train_generator, steps_per_epoch = 1124 // 32, \n",
        "                    validation_data = valid_generator, validation_steps = 53 // 32,\n",
        "                    callbacks = callbacks, epochs = 20)"
      ],
      "execution_count": 22,
      "outputs": [
        {
          "output_type": "stream",
          "text": [
            "Epoch 1/20\n",
            "35/35 [==============================] - 809s 22s/step - loss: 0.7177 - acc: 0.5419 - val_loss: 0.8105 - val_acc: 0.5000\n",
            "\n",
            "Epoch 00001: val_acc improved from -inf to 0.50000, saving model to /content/drive/MyDrive/experimentos/multilabel/pneumothorax/transferlearning_weights.hdf5\n",
            "Epoch 2/20\n",
            "35/35 [==============================] - 31s 885ms/step - loss: 0.6004 - acc: 0.6705 - val_loss: 0.7658 - val_acc: 0.5000\n",
            "\n",
            "Epoch 00002: val_acc did not improve from 0.50000\n",
            "Epoch 3/20\n",
            "35/35 [==============================] - 31s 889ms/step - loss: 0.5688 - acc: 0.6899 - val_loss: 0.7297 - val_acc: 0.6250\n",
            "\n",
            "Epoch 00003: val_acc improved from 0.50000 to 0.62500, saving model to /content/drive/MyDrive/experimentos/multilabel/pneumothorax/transferlearning_weights.hdf5\n",
            "Epoch 4/20\n",
            "35/35 [==============================] - 31s 911ms/step - loss: 0.5463 - acc: 0.7319 - val_loss: 0.7246 - val_acc: 0.5000\n",
            "\n",
            "Epoch 00004: val_acc did not improve from 0.62500\n",
            "Epoch 5/20\n",
            "35/35 [==============================] - 31s 882ms/step - loss: 0.5131 - acc: 0.7511 - val_loss: 0.7096 - val_acc: 0.6250\n",
            "\n",
            "Epoch 00005: val_acc did not improve from 0.62500\n",
            "Epoch 6/20\n",
            "35/35 [==============================] - 31s 886ms/step - loss: 0.4402 - acc: 0.8069 - val_loss: 0.8072 - val_acc: 0.5625\n",
            "\n",
            "Epoch 00006: val_acc did not improve from 0.62500\n",
            "Epoch 7/20\n",
            "35/35 [==============================] - 32s 898ms/step - loss: 0.4298 - acc: 0.8072 - val_loss: 0.7762 - val_acc: 0.5938\n",
            "\n",
            "Epoch 00007: val_acc did not improve from 0.62500\n",
            "Epoch 8/20\n",
            "35/35 [==============================] - 32s 908ms/step - loss: 0.3860 - acc: 0.8223 - val_loss: 0.8875 - val_acc: 0.5312\n",
            "\n",
            "Epoch 00008: val_acc did not improve from 0.62500\n",
            "Epoch 9/20\n",
            "35/35 [==============================] - 33s 933ms/step - loss: 0.3758 - acc: 0.8246 - val_loss: 0.7510 - val_acc: 0.6250\n",
            "\n",
            "Epoch 00009: val_acc did not improve from 0.62500\n",
            "Epoch 10/20\n",
            "35/35 [==============================] - 31s 878ms/step - loss: 0.3504 - acc: 0.8456 - val_loss: 0.5898 - val_acc: 0.6875\n",
            "\n",
            "Epoch 00010: val_acc improved from 0.62500 to 0.68750, saving model to /content/drive/MyDrive/experimentos/multilabel/pneumothorax/transferlearning_weights.hdf5\n",
            "Epoch 11/20\n",
            "35/35 [==============================] - 31s 887ms/step - loss: 0.3291 - acc: 0.8521 - val_loss: 0.8505 - val_acc: 0.5625\n",
            "\n",
            "Epoch 00011: val_acc did not improve from 0.68750\n",
            "Epoch 12/20\n",
            "35/35 [==============================] - 31s 880ms/step - loss: 0.2942 - acc: 0.8809 - val_loss: 0.9443 - val_acc: 0.5938\n",
            "\n",
            "Epoch 00012: val_acc did not improve from 0.68750\n",
            "Epoch 13/20\n",
            "35/35 [==============================] - 31s 874ms/step - loss: 0.2984 - acc: 0.8853 - val_loss: 1.0059 - val_acc: 0.5938\n",
            "\n",
            "Epoch 00013: val_acc did not improve from 0.68750\n",
            "Epoch 14/20\n",
            "35/35 [==============================] - 31s 870ms/step - loss: 0.2679 - acc: 0.8912 - val_loss: 0.9427 - val_acc: 0.5625\n",
            "\n",
            "Epoch 00014: val_acc did not improve from 0.68750\n",
            "Epoch 15/20\n",
            "35/35 [==============================] - 31s 897ms/step - loss: 0.2596 - acc: 0.9070 - val_loss: 1.6075 - val_acc: 0.4688\n",
            "\n",
            "Epoch 00015: val_acc did not improve from 0.68750\n",
            "Epoch 16/20\n",
            "35/35 [==============================] - 31s 873ms/step - loss: 0.2278 - acc: 0.9114 - val_loss: 1.0755 - val_acc: 0.6562\n",
            "\n",
            "Epoch 00016: val_acc did not improve from 0.68750\n",
            "Epoch 17/20\n",
            "35/35 [==============================] - 31s 869ms/step - loss: 0.2358 - acc: 0.9145 - val_loss: 1.0329 - val_acc: 0.5000\n",
            "\n",
            "Epoch 00017: val_acc did not improve from 0.68750\n",
            "Epoch 18/20\n",
            "35/35 [==============================] - 31s 880ms/step - loss: 0.2492 - acc: 0.9115 - val_loss: 0.9967 - val_acc: 0.5625\n",
            "\n",
            "Epoch 00018: val_acc did not improve from 0.68750\n",
            "Epoch 19/20\n",
            "35/35 [==============================] - 31s 872ms/step - loss: 0.2369 - acc: 0.9182 - val_loss: 1.1763 - val_acc: 0.5938\n",
            "\n",
            "Epoch 00019: val_acc did not improve from 0.68750\n",
            "Epoch 20/20\n",
            "35/35 [==============================] - 31s 867ms/step - loss: 0.2488 - acc: 0.9021 - val_loss: 0.6921 - val_acc: 0.6562\n",
            "\n",
            "Epoch 00020: val_acc did not improve from 0.68750\n"
          ],
          "name": "stdout"
        }
      ]
    },
    {
      "cell_type": "code",
      "metadata": {
        "colab": {
          "base_uri": "https://localhost:8080/"
        },
        "id": "FjLLhWsk277K",
        "outputId": "e4292de5-0e37-4124-d62d-ef36d107bc10"
      },
      "source": [
        "history = model.fit(train_generator, steps_per_epoch = 1124 // 32, \n",
        "                    validation_data = valid_generator, validation_steps = 53 // 32,\n",
        "                    callbacks = callbacks, epochs = 10)"
      ],
      "execution_count": 23,
      "outputs": [
        {
          "output_type": "stream",
          "text": [
            "Epoch 1/10\n",
            "35/35 [==============================] - 31s 887ms/step - loss: 0.2188 - acc: 0.9057 - val_loss: 0.7781 - val_acc: 0.6562\n",
            "\n",
            "Epoch 00001: val_acc did not improve from 0.68750\n",
            "Epoch 2/10\n",
            "35/35 [==============================] - 30s 863ms/step - loss: 0.2019 - acc: 0.9130 - val_loss: 1.2496 - val_acc: 0.6250\n",
            "\n",
            "Epoch 00002: val_acc did not improve from 0.68750\n",
            "Epoch 3/10\n",
            "35/35 [==============================] - 30s 867ms/step - loss: 0.2195 - acc: 0.9066 - val_loss: 1.1333 - val_acc: 0.5938\n",
            "\n",
            "Epoch 00003: val_acc did not improve from 0.68750\n",
            "Epoch 4/10\n",
            "35/35 [==============================] - 30s 861ms/step - loss: 0.2266 - acc: 0.9158 - val_loss: 0.7522 - val_acc: 0.7812\n",
            "\n",
            "Epoch 00004: val_acc improved from 0.68750 to 0.78125, saving model to /content/drive/MyDrive/experimentos/multilabel/pneumothorax/transferlearning_weights.hdf5\n",
            "Epoch 5/10\n",
            "35/35 [==============================] - 32s 922ms/step - loss: 0.1789 - acc: 0.9259 - val_loss: 0.9113 - val_acc: 0.7188\n",
            "\n",
            "Epoch 00005: val_acc did not improve from 0.78125\n",
            "Epoch 6/10\n",
            "35/35 [==============================] - 32s 914ms/step - loss: 0.2115 - acc: 0.9071 - val_loss: 1.1169 - val_acc: 0.6875\n",
            "\n",
            "Epoch 00006: val_acc did not improve from 0.78125\n",
            "Epoch 7/10\n",
            "35/35 [==============================] - 31s 874ms/step - loss: 0.1982 - acc: 0.9158 - val_loss: 1.2774 - val_acc: 0.6250\n",
            "\n",
            "Epoch 00007: val_acc did not improve from 0.78125\n",
            "Epoch 8/10\n",
            "35/35 [==============================] - 31s 872ms/step - loss: 0.1868 - acc: 0.9277 - val_loss: 1.4844 - val_acc: 0.5938\n",
            "\n",
            "Epoch 00008: val_acc did not improve from 0.78125\n",
            "Epoch 9/10\n",
            "35/35 [==============================] - 31s 877ms/step - loss: 0.2006 - acc: 0.9158 - val_loss: 1.7374 - val_acc: 0.5938\n",
            "\n",
            "Epoch 00009: val_acc did not improve from 0.78125\n",
            "Epoch 10/10\n",
            "35/35 [==============================] - 32s 903ms/step - loss: 0.1999 - acc: 0.9187 - val_loss: 1.2369 - val_acc: 0.5938\n",
            "\n",
            "Epoch 00010: val_acc did not improve from 0.78125\n"
          ],
          "name": "stdout"
        }
      ]
    },
    {
      "cell_type": "code",
      "metadata": {
        "colab": {
          "base_uri": "https://localhost:8080/"
        },
        "id": "Qhf0DRSy40Dw",
        "outputId": "6b593ce5-6667-40bd-82c9-58ea939dd23d"
      },
      "source": [
        "model.load_weights('/content/drive/MyDrive/experimentos/multilabel/pneumothorax/transferlearning_weights.hdf5')\n",
        "model.evaluate(test_generator)"
      ],
      "execution_count": 25,
      "outputs": [
        {
          "output_type": "stream",
          "text": [
            "2/2 [==============================] - 1s 89ms/step - loss: 0.8338 - acc: 0.5897\n"
          ],
          "name": "stdout"
        },
        {
          "output_type": "execute_result",
          "data": {
            "text/plain": [
              "[0.8338368535041809, 0.5897436141967773]"
            ]
          },
          "metadata": {
            "tags": []
          },
          "execution_count": 25
        }
      ]
    },
    {
      "cell_type": "code",
      "metadata": {
        "colab": {
          "base_uri": "https://localhost:8080/"
        },
        "id": "VtZ92UzK5Cok",
        "outputId": "cfbc878b-9a34-46df-f084-56e1c1540b2d"
      },
      "source": [
        "model.save('/content/drive/MyDrive/experimentos/multilabel/pneumothorax/model1')"
      ],
      "execution_count": 26,
      "outputs": [
        {
          "output_type": "stream",
          "text": [
            "INFO:tensorflow:Assets written to: /content/drive/MyDrive/experimentos/multilabel/pneumothorax/model1/assets\n"
          ],
          "name": "stdout"
        }
      ]
    },
    {
      "cell_type": "code",
      "metadata": {
        "id": "uqkCmgOo5HO0"
      },
      "source": [
        "(x,y) = test_generator[0]"
      ],
      "execution_count": 27,
      "outputs": []
    },
    {
      "cell_type": "code",
      "metadata": {
        "id": "O4IXGFFN5Mml"
      },
      "source": [
        "predict = model.predict(x)"
      ],
      "execution_count": 28,
      "outputs": []
    },
    {
      "cell_type": "code",
      "metadata": {
        "id": "2WtAWTiE5P-G"
      },
      "source": [
        "from sklearn.metrics import precision_score, recall_score, accuracy_score, f1_score, confusion_matrix\n",
        "\n",
        "def thresholds(limiar, predict):\n",
        "  '''predição para diferentes thresholds'''\n",
        "\n",
        "  predict_ = []\n",
        "  for i in predict:\n",
        "    if i > limiar:\n",
        "      predict_.append(1)\n",
        "    else:\n",
        "      predict_.append(0)\n",
        "  \n",
        "  return predict_\n",
        "\n",
        "def precision_recall_accuracy_curve(predict, y):\n",
        "  ''' Relaciona a curva da Precisão, Sensibilidade e Acurácia em relação a diferentes Thresholds'''\n",
        "\n",
        "  limiares = np.arange(0, 1, 0.05)\n",
        "  predicts = []\n",
        "  precisions = []\n",
        "  recalls = []\n",
        "  accuracy = []\n",
        "  flag = 0\n",
        "  for i in limiares:\n",
        "    predicts.append(thresholds(i, predict))\n",
        "    precisions.append(precision_score(predicts[flag], y))\n",
        "    recalls.append(recall_score(predicts[flag], y))\n",
        "    accuracy.append(accuracy_score(predicts[flag], y))\n",
        "    flag += 1\n",
        "  \n",
        "  return precisions, recalls, accuracy\n",
        "\n",
        "def plot_precision_recall_accuracy_curve(precisions, recalls, accuracy):\n",
        "  '''Plotando a curva de Precisão, Sensibilidade e Acurácia'''\n",
        "\n",
        "  plt.figure(figsize = (10,5))\n",
        "  plt.plot(np.arange(0, 1, 0.05), precisions, label = 'Precision')\n",
        "  plt.plot(np.arange(0, 1, 0.05), recalls, label = 'Recall')\n",
        "  plt.plot(np.arange(0, 1, 0.05), accuracy, label = 'Accuracy')\n",
        "  plt.title('Precisão, Sensibilidade e Acurácia para diferentes Thresholds')\n",
        "  plt.xlabel('Thresholds')\n",
        "  plt.legend()\n",
        "  plt.savefig('curve-analysis')\n",
        "\n",
        "  return None\n",
        "\n",
        "def best_metrics(threshold, predict, y):\n",
        "  '''Melhores valores para o threshold escolhido'''\n",
        "\n",
        "  predict_ = thresholds(threshold, predict)\n",
        "  print('Matriz de Confusão:\\n', confusion_matrix(predict_, y))\n",
        "  print('Acurácia:', accuracy_score(predict_, y))\n",
        "  print('Precisão', precision_score(predict_, y))\n",
        "  print('Sensibilidade:', recall_score(predict_, y)) \n",
        "  print('F1_Score:', f1_score(predict_, y))\n",
        "\n",
        "  return None"
      ],
      "execution_count": 29,
      "outputs": []
    },
    {
      "cell_type": "code",
      "metadata": {
        "colab": {
          "base_uri": "https://localhost:8080/",
          "height": 350
        },
        "id": "olzY6Wr15Rg3",
        "outputId": "3e3897c7-325d-4f3a-8bc2-620c113827a0"
      },
      "source": [
        "# plotando a curva da Precisão, Sensibilidade e Acurácia \n",
        "precisions, recalls, accuracy = precision_recall_accuracy_curve(predict, y)\n",
        "plot_precision_recall_accuracy_curve(precisions, recalls, accuracy)"
      ],
      "execution_count": 30,
      "outputs": [
        {
          "output_type": "display_data",
          "data": {
            "image/png": "[encoded data removed]",
            "text/plain": [
              "<Figure size 720x360 with 1 Axes>"
            ]
          },
          "metadata": {
            "tags": [],
            "needs_background": "light"
          }
        }
      ]
    },
    {
      "cell_type": "code",
      "metadata": {
        "colab": {
          "base_uri": "https://localhost:8080/"
        },
        "id": "hcJbh8au5Taw",
        "outputId": "f9278208-096c-4580-d877-9fa826e6b8a6"
      },
      "source": [
        "# analisando as melhores métricas encontradas para o modelo\n",
        "best_metrics(threshold = 0.18, predict = predict, y = y)"
      ],
      "execution_count": 31,
      "outputs": [
        {
          "output_type": "stream",
          "text": [
            "Matriz de Confusão:\n",
            " [[ 7  3]\n",
            " [ 7 15]]\n",
            "Acurácia: 0.6875\n",
            "Precisão 0.8333333333333334\n",
            "Sensibilidade: 0.6818181818181818\n",
            "F1_Score: 0.7499999999999999\n"
          ],
          "name": "stdout"
        }
      ]
    },
    {
      "cell_type": "code",
      "metadata": {
        "colab": {
          "base_uri": "https://localhost:8080/",
          "height": 350
        },
        "id": "O-Ghw1335XOK",
        "outputId": "35237206-cbc3-4348-fe17-96ddda64d313"
      },
      "source": [
        "# visualizando o ganho de acurácia durante o treinamento\n",
        "plt.figure(figsize = (15,5))\n",
        "plt.subplot(1, 2, 1)\n",
        "plt.plot(history.history['acc'])\n",
        "plt.plot(history.history['val_acc'])\n",
        "plt.title('model accuracy')\n",
        "plt.ylabel('accuracy')\n",
        "plt.xlabel('epoch')\n",
        "plt.legend(['train', 'test'], loc='upper left')\n",
        "plt.savefig('model-accuracy')\n",
        "\n",
        "# visualizando o decaimento da função de custo durante o treinamento \n",
        "plt.subplot(1, 2, 2)\n",
        "plt.plot(history.history['loss'])\n",
        "plt.plot(history.history['val_loss'])\n",
        "plt.title('model loss')\n",
        "plt.ylabel('loss')\n",
        "plt.xlabel('epoch')\n",
        "plt.legend(['train', 'test'], loc='upper left')\n",
        "plt.savefig('model-loss')"
      ],
      "execution_count": 32,
      "outputs": [
        {
          "output_type": "display_data",
          "data": {
            "image/png": "[encoded data removed]",
            "text/plain": [
              "<Figure size 1080x360 with 2 Axes>"
            ]
          },
          "metadata": {
            "tags": [],
            "needs_background": "light"
          }
        }
      ]
    }
  ]
}